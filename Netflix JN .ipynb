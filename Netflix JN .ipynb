{
 "cells": [
  {
   "cell_type": "markdown",
   "id": "bafa697d",
   "metadata": {},
   "source": [
    "# 🎬 Netflix Content Analytics Notebook (Code Sections Only)\n",
    "\n",
    "This notebook focuses on the code implementation for Netflix content analytics, including data loading, cleaning, analytics, visualization, recommendations, and report export."
   ]
  },
  {
   "cell_type": "markdown",
   "id": "0a03247e",
   "metadata": {},
   "source": [
    "## 1. Setup and Import Libraries\n",
    "\n",
    "Import required Python libraries and set up plotting styles."
   ]
  },
  {
   "cell_type": "code",
   "execution_count": null,
   "id": "e3cf602f",
   "metadata": {},
   "outputs": [
    {
     "ename": "ModuleNotFoundError",
     "evalue": "No module named 'seaborn'",
     "output_type": "error",
     "traceback": [
      "\u001b[31m---------------------------------------------------------------------------\u001b[39m",
      "\u001b[31mModuleNotFoundError\u001b[39m                       Traceback (most recent call last)",
      "\u001b[36mCell\u001b[39m\u001b[36m \u001b[39m\u001b[32mIn[1]\u001b[39m\u001b[32m, line 6\u001b[39m\n\u001b[32m      4\u001b[39m \u001b[38;5;28;01mimport\u001b[39;00m\u001b[38;5;250m \u001b[39m\u001b[34;01mnumpy\u001b[39;00m\u001b[38;5;250m \u001b[39m\u001b[38;5;28;01mas\u001b[39;00m\u001b[38;5;250m \u001b[39m\u001b[34;01mnp\u001b[39;00m\n\u001b[32m      5\u001b[39m \u001b[38;5;28;01mimport\u001b[39;00m\u001b[38;5;250m \u001b[39m\u001b[34;01mpandas\u001b[39;00m\u001b[38;5;250m \u001b[39m\u001b[38;5;28;01mas\u001b[39;00m\u001b[38;5;250m \u001b[39m\u001b[34;01mpd\u001b[39;00m\n\u001b[32m----> \u001b[39m\u001b[32m6\u001b[39m \u001b[38;5;28;01mimport\u001b[39;00m\u001b[38;5;250m \u001b[39m\u001b[34;01mseaborn\u001b[39;00m\u001b[38;5;250m \u001b[39m\u001b[38;5;28;01mas\u001b[39;00m\u001b[38;5;250m \u001b[39m\u001b[34;01msns\u001b[39;00m\n\u001b[32m      7\u001b[39m \u001b[38;5;28;01mimport\u001b[39;00m\u001b[38;5;250m \u001b[39m\u001b[34;01mmatplotlib\u001b[39;00m\u001b[34;01m.\u001b[39;00m\u001b[34;01mpyplot\u001b[39;00m\u001b[38;5;250m \u001b[39m\u001b[38;5;28;01mas\u001b[39;00m\u001b[38;5;250m \u001b[39m\u001b[34;01mplt\u001b[39;00m\n\u001b[32m      8\u001b[39m \u001b[38;5;28;01mfrom\u001b[39;00m\u001b[38;5;250m \u001b[39m\u001b[34;01mdatetime\u001b[39;00m\u001b[38;5;250m \u001b[39m\u001b[38;5;28;01mimport\u001b[39;00m datetime\n",
      "\u001b[31mModuleNotFoundError\u001b[39m: No module named 'seaborn'"
     ]
    }
   ],
   "source": [
    "# Import required libraries\n",
    "import os\n",
    "import math\n",
    "import numpy as np\n",
    "import pandas as pd\n",
    "import seaborn as sns\n",
    "import matplotlib.pyplot as plt\n",
    "from datetime import datetime\n",
    "\n",
    "plt.style.use('seaborn-v0_8-whitegrid')\n",
    "sns.set_context('talk')"
   ]
  },
  {
   "cell_type": "markdown",
   "id": "d15e0681",
   "metadata": {},
   "source": [
    "## 2. Find and Load Netflix Dataset\n",
    "\n",
    "Define file paths, check for dataset existence, and load the CSV file into a pandas DataFrame."
   ]
  },
  {
   "cell_type": "code",
   "execution_count": null,
   "id": "9b98f7a1",
   "metadata": {},
   "outputs": [],
   "source": [
    "DATA_PATHS = [\n",
    "    'Netflix Dataset.csv',\n",
    "    os.path.join('src', 'data', 'Netflix Dataset.csv')\n",
    "]\n",
    "\n",
    "def find_data_path(paths):\n",
    "    for p in paths:\n",
    "        if os.path.exists(p):\n",
    "            return p\n",
    "    return None\n",
    "\n",
    "data_path = find_data_path(DATA_PATHS)\n",
    "if data_path is None:\n",
    "    raise FileNotFoundError(\"Netflix Dataset.csv not found in project/ or src/data/.\")\n",
    "\n",
    "df = pd.read_csv(data_path)"
   ]
  },
  {
   "cell_type": "markdown",
   "id": "0d623be5",
   "metadata": {},
   "source": [
    "## 3. Prepare and Normalize Data\n",
    "\n",
    "Clean column names, normalize data types, and ensure all expected columns exist."
   ]
  },
  {
   "cell_type": "code",
   "execution_count": null,
   "id": "3b40f363",
   "metadata": {},
   "outputs": [],
   "source": [
    "# Clean column names\n",
    "df.columns = [c.strip().lower().replace(' ', '_') for c in df.columns]\n",
    "\n",
    "# Normalize data types\n",
    "if 'release_year' in df.columns:\n",
    "    df['release_year'] = pd.to_numeric(df['release_year'], errors='coerce')\n",
    "\n",
    "if 'date_added' in df.columns:\n",
    "    df['date_added'] = pd.to_datetime(df['date_added'], errors='coerce')\n",
    "\n",
    "# Ensure expected columns exist\n",
    "expected_cols = [\n",
    "    'show_id','type','title','director','cast','country',\n",
    "    'date_added','release_year','rating','duration','listed_in','description'\n",
    "]\n",
    "for col in expected_cols:\n",
    "    if col not in df.columns:\n",
    "        df[col] = np.nan"
   ]
  },
  {
   "cell_type": "markdown",
   "id": "45939c15",
   "metadata": {},
   "source": [
    "## 4. Compute KPIs & Executive Summary\n",
    "\n",
    "Calculate total content, split by type, year range, top countries, top genres, and rating distribution."
   ]
  },
  {
   "cell_type": "code",
   "execution_count": null,
   "id": "f729d3ab",
   "metadata": {},
   "outputs": [],
   "source": [
    "total_movies = (df['type'] == 'Movie').sum()\n",
    "total_tv = (df['type'] == 'TV Show').sum()\n",
    "total_content = len(df)\n",
    "\n",
    "years = df['release_year'].dropna().astype(int)\n",
    "year_start = int(years.min()) if len(years) else None\n",
    "year_end = int(years.max()) if len(years) else None\n",
    "\n",
    "# Top countries\n",
    "country_counts = {}\n",
    "for val in df['country'].fillna(''):\n",
    "    for c in [x.strip() for x in str(val).split(',') if x.strip()]:\n",
    "        country_counts[c] = country_counts.get(c, 0) + 1\n",
    "top_countries = sorted(country_counts.items(), key=lambda x: x[1], reverse=True)[:10]\n",
    "\n",
    "# Top genres\n",
    "genre_counts = {}\n",
    "for val in df['listed_in'].fillna(''):\n",
    "    for g in [x.strip() for x in str(val).split(',') if x.strip()]:\n",
    "        genre_counts[g] = genre_counts.get(g, 0) + 1\n",
    "top_genres = sorted(genre_counts.items(), key=lambda x: x[1], reverse=True)[:10]\n",
    "\n",
    "# Rating distribution\n",
    "rating_counts = df['rating'].fillna('').value_counts()\n",
    "\n",
    "summary = {\n",
    "    'total_content': total_content,\n",
    "    'total_movies': total_movies,\n",
    "    'total_tv_shows': total_tv,\n",
    "    'year_range': (year_start, year_end),\n",
    "    'top_countries': top_countries,\n",
    "    'top_genres': top_genres,\n",
    "    'rating_distribution': rating_counts.to_dict()\n",
    "}"
   ]
  },
  {
   "cell_type": "markdown",
   "id": "9b62e256",
   "metadata": {},
   "source": [
    "## 5. Visualize Trends & Distributions\n",
    "\n",
    "Plot content growth by year, rating distribution, top countries, and top genres."
   ]
  },
  {
   "cell_type": "code",
   "execution_count": null,
   "id": "0eb7bfbf",
   "metadata": {},
   "outputs": [],
   "source": [
    "# Content by year\n",
    "by_year = df.dropna(subset=['release_year']).copy()\n",
    "by_year['release_year'] = by_year['release_year'].astype(int)\n",
    "pivot = by_year.pivot_table(index='release_year', columns='type', values='show_id', aggfunc='count', fill_value=0)\n",
    "\n",
    "fig, ax = plt.subplots(figsize=(10,5))\n",
    "pivot.plot(kind='line', ax=ax)\n",
    "ax.set_title('Content Growth Trend (Movies vs TV Shows)')\n",
    "ax.set_xlabel('Year')\n",
    "ax.set_ylabel('Count')\n",
    "plt.show()\n",
    "\n",
    "# Rating distribution (top 10)\n",
    "top_ratings = rating_counts.head(10)\n",
    "fig, ax = plt.subplots(figsize=(10,5))\n",
    "sns.barplot(x=top_ratings.index, y=top_ratings.values, ax=ax, color='#e50914')\n",
    "ax.set_title('Content Rating Distribution (Top 10)')\n",
    "ax.set_xlabel('Rating')\n",
    "ax.set_ylabel('Count')\n",
    "plt.show()\n",
    "\n",
    "# Top countries\n",
    "tc_df = pd.DataFrame(top_countries, columns=['country','count'])\n",
    "fig, ax = plt.subplots(figsize=(10,5))\n",
    "sns.barplot(data=tc_df, x='count', y='country', ax=ax, color='#0080ff')\n",
    "ax.set_title('Top 10 Content-Producing Countries')\n",
    "ax.set_xlabel('Count')\n",
    "ax.set_ylabel('Country')\n",
    "plt.show()\n",
    "\n",
    "# Top genres\n",
    "tg_df = pd.DataFrame(top_genres, columns=['genre','count'])\n",
    "fig, ax = plt.subplots(figsize=(10,5))\n",
    "sns.barplot(data=tg_df, x='count', y='genre', ax=ax, color='#00c853')\n",
    "ax.set_title('Top 10 Genres')\n",
    "ax.set_xlabel('Count')\n",
    "ax.set_ylabel('Genre')\n",
    "plt.show()"
   ]
  },
  {
   "cell_type": "markdown",
   "id": "6d65317d",
   "metadata": {},
   "source": [
    "## 6. Calculate Diversity Metrics (Yearly)\n",
    "\n",
    "Compute yearly diversity scores based on unique genres, countries, and type balance."
   ]
  },
  {
   "cell_type": "code",
   "execution_count": null,
   "id": "b89799ea",
   "metadata": {},
   "outputs": [],
   "source": [
    "yearly = {}\n",
    "for _, row in df.dropna(subset=['release_year']).iterrows():\n",
    "    y = int(row['release_year'])\n",
    "    yearly.setdefault(y, {\n",
    "        'genres': set(),\n",
    "        'countries': set(),\n",
    "        'movies': 0,\n",
    "        'tv': 0\n",
    "    })\n",
    "    for g in [x.strip() for x in str(row['listed_in']).split(',') if x.strip()]:\n",
    "        yearly[y]['genres'].add(g)\n",
    "    for c in [x.strip() for x in str(row['country']).split(',') if x.strip()]:\n",
    "        yearly[y]['countries'].add(c)\n",
    "    if row['type'] == 'Movie':\n",
    "        yearly[y]['movies'] += 1\n",
    "    elif row['type'] == 'TV Show':\n",
    "        yearly[y]['tv'] += 1\n",
    "\n",
    "rows = []\n",
    "for y, d in yearly.items():\n",
    "    total = d['movies'] + d['tv']\n",
    "    type_balance = (min(d['movies'], d['tv']) / total) if total > 0 else 0\n",
    "    score = round((len(d['genres'])/15)*40 + (len(d['countries'])/20)*40 + type_balance*20)\n",
    "    rows.append([y, len(d['genres']), len(d['countries']), min(100, score)])\n",
    "\n",
    "div_df = pd.DataFrame(rows, columns=['year','genre_count','country_count','diversity_score']).sort_values('year')"
   ]
  },
  {
   "cell_type": "markdown",
   "id": "d6a71088",
   "metadata": {},
   "source": [
    "## 7. Plot Diversity Score by Year\n",
    "\n",
    "Visualize the diversity score over time using a line plot."
   ]
  },
  {
   "cell_type": "code",
   "execution_count": null,
   "id": "c67bb418",
   "metadata": {},
   "outputs": [],
   "source": [
    "fig, ax = plt.subplots(figsize=(10,5))\n",
    "sns.lineplot(data=div_df, x='year', y='diversity_score', ax=ax, marker='o')\n",
    "ax.set_title('Diversity Score by Year')\n",
    "ax.set_xlabel('Year')\n",
    "ax.set_ylabel('Score (0–100)')\n",
    "plt.show()"
   ]
  },
  {
   "cell_type": "markdown",
   "id": "5d51f627",
   "metadata": {},
   "source": [
    "## 8. Genre Co-occurrence Analysis\n",
    "\n",
    "Count and tabulate how often pairs of genres co-occur in the same title."
   ]
  },
  {
   "cell_type": "code",
   "execution_count": null,
   "id": "34d990af",
   "metadata": {},
   "outputs": [],
   "source": [
    "from collections import Counter\n",
    "\n",
    "pairs = Counter()\n",
    "for val in df['listed_in'].fillna(''):\n",
    "    genres = sorted({x.strip() for x in str(val).split(',') if x.strip()})\n",
    "    for i in range(len(genres)):\n",
    "        for j in range(i+1, len(genres)):\n",
    "            pairs[(genres[i], genres[j])] += 1\n",
    "\n",
    "cooc_df = pd.DataFrame([(g1, g2, cnt) for (g1,g2), cnt in pairs.items()], columns=['genre1','genre2','count'])\n",
    "top_cooc = cooc_df.sort_values('count', ascending=False).head(10)\n",
    "print(top_cooc)"
   ]
  },
  {
   "cell_type": "markdown",
   "id": "547a2278",
   "metadata": {},
   "source": [
    "## 9. Simple Recommendations Function\n",
    "\n",
    "Define a function to recommend similar titles based on type, genre, country, rating, year, and duration similarity."
   ]
  },
  {
   "cell_type": "code",
   "execution_count": null,
   "id": "d8b7fee2",
   "metadata": {},
   "outputs": [],
   "source": [
    "def parse_duration_minutes(s):\n",
    "    s = str(s)\n",
    "    if 'min' in s:\n",
    "        try:\n",
    "            return int(''.join([ch for ch in s if ch.isdigit()]))\n",
    "        except:\n",
    "            return None\n",
    "    return None\n",
    "\n",
    "def recs_for_title(title, limit=5):\n",
    "    base = df[df['title'].str.lower() == title.lower()].head(1)\n",
    "    if base.empty:\n",
    "        return pd.DataFrame()\n",
    "    base = base.iloc[0]\n",
    "\n",
    "    def score(row):\n",
    "        sc = 0\n",
    "        if row['type'] == base['type']:\n",
    "            sc += 3\n",
    "        # genres\n",
    "        g1 = {x.strip() for x in str(base['listed_in']).split(',') if x.strip()}\n",
    "        g2 = {x.strip() for x in str(row['listed_in']).split(',') if x.strip()}\n",
    "        sc += 2 * len(g1.intersection(g2))\n",
    "        # countries\n",
    "        c1 = {x.strip() for x in str(base['country']).split(',') if x.strip()}\n",
    "        c2 = {x.strip() for x in str(row['country']).split(',') if x.strip()}\n",
    "        sc += 1.5 * len(c1.intersection(c2))\n",
    "        # rating\n",
    "        if str(row['rating']) == str(base['rating']):\n",
    "            sc += 1\n",
    "        # year\n",
    "        try:\n",
    "            ydiff = abs(int(row['release_year']) - int(base['release_year']))\n",
    "            if ydiff <= 2:\n",
    "                sc += 2\n",
    "            elif ydiff <= 5:\n",
    "                sc += 1\n",
    "        except:\n",
    "            pass\n",
    "        # duration (movies)\n",
    "        if base['type'] == 'Movie' and row['type'] == 'Movie':\n",
    "            d1 = parse_duration_minutes(base['duration'])\n",
    "            d2 = parse_duration_minutes(row['duration'])\n",
    "            if d1 is not None and d2 is not None and abs(d1-d2) <= 20:\n",
    "                sc += 1\n",
    "        return sc\n",
    "\n",
    "    cand = df[df['title'].str.lower() != title.lower()].copy()\n",
    "    cand['score'] = cand.apply(score, axis=1)\n",
    "    return cand.sort_values('score', ascending=False).head(limit)[['title','type','rating','release_year','listed_in','country','score']]\n",
    "\n",
    "# Example usage\n",
    "example_title = df['title'].dropna().iloc[0]\n",
    "print(recs_for_title(example_title, limit=5))"
   ]
  },
  {
   "cell_type": "markdown",
   "id": "ccb15f01",
   "metadata": {},
   "source": [
    "## 10. Export Analytics Report\n",
    "\n",
    "Generate and export a text report summarizing KPIs, top countries, genres, and ratings."
   ]
  },
  {
   "cell_type": "code",
   "execution_count": null,
   "id": "8a42a333",
   "metadata": {},
   "outputs": [],
   "source": [
    "def generate_report(summary_dict):\n",
    "    lines = []\n",
    "    lines.append('NETFLIX CONTENT ANALYTICS REPORT')\n",
    "    lines.append(f'Generated: {datetime.now().strftime(\"%Y-%m-%d\")}')\n",
    "    lines.append('='*60)\n",
    "    lines.append('')\n",
    "    lines.append('EXECUTIVE SUMMARY')\n",
    "    lines.append('-'*60)\n",
    "    lines.append(f\"Total Content Items: {summary_dict['total_content']}\")\n",
    "    lines.append(f\"Movies: {summary_dict['total_movies']} ({(summary_dict['total_movies']/max(1,summary_dict['total_content'])*100):.1f}%)\")\n",
    "    lines.append(f\"TV Shows: {summary_dict['total_tv_shows']} ({(summary_dict['total_tv_shows']/max(1,summary_dict['total_content'])*100):.1f}%)\")\n",
    "    lines.append(f\"Content Period: {summary_dict['year_range'][0]} - {summary_dict['year_range'][1]}\")\n",
    "    lines.append('')\n",
    "    lines.append('TOP CONTENT PRODUCERS')\n",
    "    lines.append('-'*60)\n",
    "    for i, (c, n) in enumerate(summary_dict['top_countries'], start=1):\n",
    "        lines.append(f\"{i}. {c:<20} {n} titles\")\n",
    "    lines.append('')\n",
    "    lines.append('TOP GENRES')\n",
    "    lines.append('-'*60)\n",
    "    for i, (g, n) in enumerate(summary_dict['top_genres'], start=1):\n",
    "        lines.append(f\"{i}. {g:<20} {n} titles\")\n",
    "    lines.append('')\n",
    "    lines.append('CONTENT RATINGS (Top 10)')\n",
    "    lines.append('-'*60)\n",
    "    rc = pd.Series(summary_dict['rating_distribution']).sort_values(ascending=False).head(10)\n",
    "    for i, (r, n) in enumerate(rc.items(), start=1):\n",
    "        lines.append(f\"{i}. {r:<10} {n} titles\")\n",
    "    lines.append('')\n",
    "    return '\\n'.join(lines)\n",
    "\n",
    "report_text = generate_report(summary)\n",
    "report_path = 'netflix-analytics-report.txt'\n",
    "with open(report_path, 'w', encoding='utf-8') as f:\n",
    "    f.write(report_text)\n",
    "print(report_path)\n",
    "print('\\n'.join(report_text.splitlines()[:12]))"
   ]
  }
 ],
 "metadata": {
  "language_info": {
   "name": "python"
  }
 },
 "nbformat": 4,
 "nbformat_minor": 5
}
